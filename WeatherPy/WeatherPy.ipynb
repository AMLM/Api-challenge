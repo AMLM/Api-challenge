{
 "cells": [
  {
   "cell_type": "markdown",
   "metadata": {},
   "source": [
    "# WeatherPy\n",
    "----\n",
    "\n",
    "#### Note\n",
    "* Instructions have been included for each segment. You do not have to follow them exactly, but they are included to help you think through the steps."
   ]
  },
  {
   "cell_type": "code",
   "execution_count": 1,
   "metadata": {
    "scrolled": true
   },
   "outputs": [],
   "source": [
    "# Dependencies and Setup\n",
    "import matplotlib.pyplot as plt\n",
    "import pandas as pd\n",
    "import numpy as np\n",
    "import requests\n",
    "import time\n",
    "from scipy.stats import linregress\n",
    "import json\n",
    "import citipy\n",
    "\n",
    "# Import API key\n",
    "from api_keys import weather_api_key\n",
    "\n",
    "# Incorporated citipy to determine city based on latitude and longitude\n",
    "from citipy import citipy\n",
    "\n",
    "# Output File (CSV)\n",
    "data = \"data/cities.csv\"\n",
    "\n",
    "# Range of latitudes and longitudes\n",
    "lat_range = (-90, 90)\n",
    "lng_range = (-180, 180)"
   ]
  },
  {
   "cell_type": "code",
   "execution_count": 2,
   "metadata": {},
   "outputs": [
    {
     "name": "stdout",
     "output_type": "stream",
     "text": [
      "Requirement already satisfied: citipy in /opt/anaconda3/lib/python3.9/site-packages (0.0.5)\n",
      "Requirement already satisfied: kdtree>=0.12 in /opt/anaconda3/lib/python3.9/site-packages (from citipy) (0.16)\n",
      "Note: you may need to restart the kernel to use updated packages.\n"
     ]
    }
   ],
   "source": [
    "pip install citipy"
   ]
  },
  {
   "cell_type": "markdown",
   "metadata": {},
   "source": [
    "## Generate Cities List"
   ]
  },
  {
   "cell_type": "code",
   "execution_count": 3,
   "metadata": {},
   "outputs": [
    {
     "name": "stdout",
     "output_type": "stream",
     "text": [
      "637\n"
     ]
    }
   ],
   "source": [
    "# List for holding lat_lngs and cities\n",
    "lat_lngs = []\n",
    "cities = []\n",
    "\n",
    "# Create a set of random lat and lng combinations\n",
    "lats = np.random.uniform(low=-90.000, high=90.000, size=1500)\n",
    "lngs = np.random.uniform(low=-180.000, high=180.000, size=1500)\n",
    "lat_lngs = zip(lats, lngs)\n",
    "\n",
    "# Identify nearest city for each lat, lng combination\n",
    "for lat_lng in lat_lngs:\n",
    "    city = citipy.nearest_city(lat_lng[0], lat_lng[1]).city_name\n",
    "    \n",
    "    # If the city is unique, then add it to a our cities list\n",
    "    if city not in cities:\n",
    "        cities.append(city)\n",
    "\n",
    "# Print the city count to confirm sufficient count\n",
    "print(len(cities))"
   ]
  },
  {
   "cell_type": "markdown",
   "metadata": {},
   "source": [
    "### Perform API Calls\n",
    "* Perform a weather check on each city using a series of successive API calls.\n",
    "* Include a print log of each city as it'sbeing processed (with the city number and city name).\n"
   ]
  },
  {
   "cell_type": "code",
   "execution_count": null,
   "metadata": {},
   "outputs": [
    {
     "name": "stdout",
     "output_type": "stream",
     "text": [
      "Processing Record 1: castro\n",
      "Processing Record 2: rikitea\n",
      "Processing Record 3: severo-kurilsk\n",
      "Processing Record 4: hobart\n",
      "Processing Record 5: tazovskiy\n",
      "Processing Record 6: shediac\n",
      "Processing Record 7: cape town\n",
      "Processing Record 8: souillac\n",
      "City not found. Skipping...\n",
      "City not found. Skipping...\n",
      "Processing Record 11: madison\n",
      "Processing Record 12: vaini\n",
      "Processing Record 13: tual\n",
      "Processing Record 14: longyearbyen\n",
      "City not found. Skipping...\n",
      "Processing Record 16: lagoa\n",
      "Processing Record 17: moranbah\n",
      "Processing Record 18: pacific grove\n",
      "Processing Record 19: mataura\n",
      "City not found. Skipping...\n",
      "Processing Record 21: namtsy\n",
      "Processing Record 22: pisco\n",
      "Processing Record 23: ulaangom\n",
      "Processing Record 24: bluff\n",
      "Processing Record 25: qaanaaq\n",
      "Processing Record 26: port alfred\n",
      "Processing Record 27: nikolskoye\n",
      "Processing Record 28: busselton\n",
      "City not found. Skipping...\n",
      "Processing Record 30: clyde river\n",
      "Processing Record 31: kapaa\n",
      "Processing Record 32: mahebourg\n",
      "Processing Record 33: norman wells\n",
      "Processing Record 34: vilyuysk\n",
      "Processing Record 35: komsomolskiy\n",
      "Processing Record 36: torbay\n",
      "Processing Record 37: jamestown\n",
      "Processing Record 38: copiapo\n",
      "Processing Record 39: bitung\n",
      "Processing Record 40: sitka\n",
      "Processing Record 41: vila franca do campo\n",
      "Processing Record 42: kashi\n",
      "Processing Record 43: touros\n",
      "Processing Record 44: bredasdorp\n",
      "Processing Record 45: new norfolk\n",
      "Processing Record 46: chuy\n",
      "Processing Record 47: upernavik\n",
      "Processing Record 48: tasiilaq\n",
      "Processing Record 49: eruwa\n",
      "Processing Record 50: magistralnyy\n",
      "Processing Record 51: paris\n",
      "Processing Record 52: bethel\n",
      "Processing Record 53: husavik\n",
      "Processing Record 54: kyzyl-suu\n",
      "Processing Record 55: taltal\n",
      "Processing Record 56: sao joao da barra\n",
      "City not found. Skipping...\n",
      "Processing Record 58: port huron\n",
      "Processing Record 59: thompson\n",
      "Processing Record 60: vestmannaeyjar\n",
      "Processing Record 61: saint anthony\n",
      "Processing Record 62: dikson\n",
      "Processing Record 63: punta arenas\n",
      "Processing Record 64: ushuaia\n",
      "Processing Record 65: tiksi\n",
      "Processing Record 66: saint-pierre\n",
      "Processing Record 67: sabha\n",
      "City not found. Skipping...\n",
      "Processing Record 69: honiara\n",
      "Processing Record 70: waingapu\n",
      "Processing Record 71: roald\n",
      "Processing Record 72: hithadhoo\n",
      "Processing Record 73: malakal\n",
      "Processing Record 74: rudbar\n",
      "Processing Record 75: puerto ayora\n",
      "City not found. Skipping...\n",
      "Processing Record 77: andenes\n",
      "Processing Record 78: inta\n",
      "Processing Record 79: beringovskiy\n",
      "Processing Record 80: ulagan\n"
     ]
    }
   ],
   "source": [
    "#Perform API Calls\n",
    "#Perform a weather check on each city using a series of successive API calls.\n",
    "#Include a print log of each city as it's being processed (with the city number and city name).\n",
    "base_url = \"http://api.openweathermap.org/data/2.5/weather?\"\n",
    "query = base_url + \"appid=\" + weather_api_key + '&units=imperial' + \"&q=\" + city\n",
    "\n",
    "#list and record checker\n",
    "record = 0\n",
    "city_name = []\n",
    "cloudiness = []\n",
    "country = []\n",
    "date = []\n",
    "humidity = []\n",
    "lat = []\n",
    "lng = []\n",
    "max_temp = []\n",
    "windspeed = []\n",
    "\n",
    "\n",
    "#append lists for reach city found and print found status\n",
    "for city in cities:\n",
    "    record += 1\n",
    "    base_url = \"http://api.openweathermap.org/data/2.5/weather?\"\n",
    "    query = base_url + \"appid=\" + weather_api_key + '&units=imperial' + \"&q=\" + city\n",
    "    response = requests.get(query)\n",
    "    city_json = response.json()\n",
    "    if (str(response) == '<Response [200]>'):\n",
    "        print(f'Processing Record {record}: {city}')\n",
    "        city_name.append(city_json['name'])\n",
    "        cloudiness.append(city_json['clouds']['all'])\n",
    "        country.append(city_json['sys']['country'])\n",
    "        date.append(city_json['dt'])\n",
    "        humidity.append(city_json['main']['humidity'])\n",
    "        lat.append(city_json['coord']['lat'])\n",
    "        lng.append(city_json['coord']['lon'])\n",
    "        max_temp.append(city_json['main']['temp_max'])\n",
    "        windspeed.append(city_json['wind']['speed'])\n",
    "    else:\n",
    "        print('City not found. Skipping...')\n",
    "#     # this if statement will limit the amount of cities checked, use to avoid running all 500+ cities\n",
    "#     if record >= 100:\n",
    "#         break\n",
    "    # sleep timer to prevent bandwidth maxing for API\n",
    "    time.sleep(1)\n",
    "\n",
    "    \n",
    "#Turn appended lists into dictionary\n",
    "weather_dict = {'City':city_name,\n",
    "                'Cloudiness':cloudiness,\n",
    "                'Country':country,\n",
    "                'Date':date,\n",
    "                'Humidity':humidity,\n",
    "                'Lat':lat,\n",
    "                'Lng':lng,\n",
    "                'Max Temp':max_temp,\n",
    "                'Wind Speed':windspeed}\n",
    "\n",
    "#Turn dictionary into dataframe\n",
    "weather_df = pd.DataFrame(weather_dict)"
   ]
  },
  {
   "cell_type": "markdown",
   "metadata": {},
   "source": [
    "Convert Raw Data to DataFrame\n",
    "Export the city data into a .csv.\n",
    "Display the DataFrame"
   ]
  },
  {
   "cell_type": "code",
   "execution_count": null,
   "metadata": {},
   "outputs": [],
   "source": [
    "# Data Count\n",
    "weather_df.count()"
   ]
  },
  {
   "cell_type": "code",
   "execution_count": null,
   "metadata": {},
   "outputs": [],
   "source": [
    "# Display DataFrame\n",
    "weather_df.head()"
   ]
  },
  {
   "cell_type": "code",
   "execution_count": null,
   "metadata": {},
   "outputs": [],
   "source": [
    "# Convert data strings to float\n",
    "\n",
    "pd.to_numeric(weather_df[\"Cloudiness\"]).astype(float)\n",
    "pd.to_numeric(weather_df[\"Humidity\"]).astype(float)\n",
    "pd.to_numeric(weather_df[\"Lat\"]).astype(float)\n",
    "pd.to_numeric(weather_df[\"Lng\"]).astype(float)\n",
    "pd.to_numeric(weather_df[\"Max Temp\"]).astype(float)\n",
    "pd.to_numeric(weather_df[\"Wind Speed\"]).astype(float)\n",
    "weather_df\n",
    "\n",
    "#Export DataFrame to CSV File\n",
    "export_csv = weather_df.to_csv (data, index = None, header=True)\n",
    "# counts for Dataframe\n",
    "\n",
    "weather_df.to_csv(\"weather_df.csv\")\n",
    "weather_df.count()"
   ]
  },
  {
   "cell_type": "code",
   "execution_count": null,
   "metadata": {},
   "outputs": [],
   "source": [
    "weather_df.head(10)"
   ]
  },
  {
   "cell_type": "markdown",
   "metadata": {},
   "source": [
    "## Inspect the data and remove the cities where the humidity > 100%.\n",
    "----\n",
    "Skip this step if there are no cities that have humidity > 100%. "
   ]
  },
  {
   "cell_type": "markdown",
   "metadata": {},
   "source": [
    "## Plotting the Data\n",
    "* Use proper labeling of the plots using plot titles (including date of analysis) and axes labels.\n",
    "* Save the plotted figures as .pngs."
   ]
  },
  {
   "cell_type": "markdown",
   "metadata": {},
   "source": [
    "The closer a city is to the equator it's temperature rises to its' max. The further away from the equator the temperature decreases"
   ]
  },
  {
   "cell_type": "code",
   "execution_count": null,
   "metadata": {},
   "outputs": [],
   "source": [
    "lat_temp_plot = plt.scatter(weather_df['Lat'],weather_df['Max Temp'],marker='o',edgecolors='black')\n",
    "plt.grid()\n",
    "plt.title('Temperature vs. Latitude',size=18)\n",
    "plt.xlabel('Latitude',size=15)\n",
    "plt.ylabel('Max Temperature (F)',size=15)\n",
    "plt.savefig('data/Fig1.png')\n",
    "plt.show()"
   ]
  },
  {
   "cell_type": "markdown",
   "metadata": {},
   "source": [
    "As seen in the graph locations south of the equator seem to have a higher average humidity, while it is more varied above the equator."
   ]
  },
  {
   "cell_type": "code",
   "execution_count": null,
   "metadata": {},
   "outputs": [],
   "source": [
    "lat_hum_plot = plt.scatter(weather_df['Lat'],weather_df['Humidity'],marker='o',edgecolors='black')\n",
    "plt.grid()\n",
    "plt.title('Humidity vs. Latitude',size=18)\n",
    "plt.xlabel('Latitude',size=15)\n",
    "plt.ylabel('Humidity (%)',size=15)\n",
    "plt.savefig('data/Fig2.png')\n",
    "plt.show()"
   ]
  },
  {
   "cell_type": "markdown",
   "metadata": {},
   "source": [
    "The is. no correlation between Claudiness and City Latitude"
   ]
  },
  {
   "cell_type": "code",
   "execution_count": null,
   "metadata": {},
   "outputs": [],
   "source": [
    "lat_cloud_plot = plt.scatter(weather_df['Lat'],weather_df['Cloudiness'],marker='o',edgecolors='black')\n",
    "plt.grid()\n",
    "plt.title('Cloudiness vs. Latitude',size=18)\n",
    "plt.xlabel('Latitude',size=15)\n",
    "plt.ylabel('Cloudiness',size=15)\n",
    "plt.savefig('data/Fig3.png')\n",
    "plt.show()"
   ]
  },
  {
   "cell_type": "markdown",
   "metadata": {},
   "source": [
    "Wind vs City Latitude: As shown, as you move farther from the equator (latittude = 0) there is an small net increase in wind speed."
   ]
  },
  {
   "cell_type": "code",
   "execution_count": null,
   "metadata": {},
   "outputs": [],
   "source": [
    "lat_ws_plot = plt.scatter(weather_df['Lat'],weather_df['Wind Speed'],marker='o',edgecolors='black')\n",
    "plt.grid()\n",
    "plt.title('Wind Speed vs. Latitude', size=18)\n",
    "plt.xlabel('Latitude',size=15)\n",
    "plt.ylabel('Wind Speed (mph)',size=15)\n",
    "plt.savefig('data/Fig4.png')\n",
    "plt.show()"
   ]
  },
  {
   "cell_type": "markdown",
   "metadata": {},
   "source": [
    "Linear Regression"
   ]
  },
  {
   "cell_type": "code",
   "execution_count": null,
   "metadata": {},
   "outputs": [],
   "source": [
    "# Create Northern and Southern Hemisphere DataFrames\n",
    "\n",
    "#Northern Hemisphere (Lat > 0)\n",
    "weather_df_north = weather_df[weather_df['Lat'] >= 0]\n",
    "\n",
    "#Southern Hemisphere (Lat < 0)\n",
    "weather_df_south = weather_df[weather_df['Lat'] < 0]"
   ]
  },
  {
   "cell_type": "markdown",
   "metadata": {},
   "source": [
    "\n",
    "Northern Hemisphere - Max Temp vs. Latitude Linear Regression"
   ]
  },
  {
   "cell_type": "code",
   "execution_count": null,
   "metadata": {},
   "outputs": [],
   "source": [
    "#setup linear regression and line equation\n",
    "x_values = weather_df_north['Lat']\n",
    "y_values = weather_df_north['Max Temp']\n",
    "(slope, intercept, rvalue, pvalue, stderr) = linregress(x_values, y_values)\n",
    "regress_values = x_values * slope + intercept\n",
    "line_eq = \"y = \" + str(round(slope,2)) + \"x + \" + str(round(intercept,2))\n",
    "\n",
    "\n",
    "#generate plot\n",
    "lat_temp_reg_n = plt.scatter(x_values,y_values,marker='o',edgecolors='black')\n",
    "plt.plot(x_values,regress_values,\"r-\")\n",
    "plt.annotate(line_eq, xy=(0,0),fontsize=15,color='red')\n",
    "plt.grid()\n",
    "plt.title('Max Temperature vs. Latitude Northern Hemisphere',size=18)\n",
    "plt.xlabel('Latitude',size=15)\n",
    "plt.ylabel('Max Temperature (F)',size=15)\n",
    "plt.show()\n",
    "\n",
    "#r2\n",
    "print(f'The r squared is: {rvalue}')\n"
   ]
  },
  {
   "cell_type": "markdown",
   "metadata": {},
   "source": [
    "Southern Hemisphere - Max Temp vs. Latitude Linear Regression"
   ]
  },
  {
   "cell_type": "code",
   "execution_count": null,
   "metadata": {},
   "outputs": [],
   "source": [
    "#setup linear regression and line equation\n",
    "x_values = weather_df_south['Lat']\n",
    "y_values = weather_df_south['Max Temp']\n",
    "(slope, intercept, rvalue, pvalue, stderr) = linregress(x_values, y_values)\n",
    "regress_values = x_values * slope + intercept\n",
    "line_eq = \"y = \" + str(round(slope,2)) + \"x + \" + str(round(intercept,2))\n",
    "\n",
    "\n",
    "#generate plot\n",
    "lat_temp_reg_n = plt.scatter(x_values,y_values,marker='o',edgecolors='black')\n",
    "plt.plot(x_values,regress_values,\"r-\")\n",
    "plt.annotate(line_eq, xy=(-40,40),fontsize=15,color='red')\n",
    "plt.grid()\n",
    "plt.title('Max Temperature vs. Latitude Southern Hemisphere',size=18)\n",
    "plt.xlabel('Latitude',size=15)\n",
    "plt.ylabel('Max Temperature (F)',size=15)\n",
    "plt.show()\n",
    "\n",
    "#r2\n",
    "print(f'The r squared is: {rvalue}')"
   ]
  },
  {
   "cell_type": "markdown",
   "metadata": {},
   "source": [
    "Northern Hemisphere - Humidity (%) vs. Latitude Linear Regression"
   ]
  },
  {
   "cell_type": "code",
   "execution_count": null,
   "metadata": {},
   "outputs": [],
   "source": [
    "#setup linear regression and line equation\n",
    "x_values = weather_df_north['Lat']\n",
    "y_values = weather_df_north['Humidity']\n",
    "(slope, intercept, rvalue, pvalue, stderr) = linregress(x_values, y_values)\n",
    "regress_values = x_values * slope + intercept\n",
    "line_eq = \"y = \" + str(round(slope,2)) + \"x + \" + str(round(intercept,2))\n",
    "\n",
    "\n",
    "#generate plot\n",
    "lat_temp_reg_n = plt.scatter(x_values,y_values,marker='o',edgecolors='black')\n",
    "plt.plot(x_values,regress_values,\"r-\")\n",
    "plt.annotate(line_eq, xy=(50,20),fontsize=15,color='red')\n",
    "plt.grid()\n",
    "plt.title('Humidity vs. Latitude Northern Hemisphere',size=18)\n",
    "plt.xlabel('Latitude',size=15)\n",
    "plt.ylabel('Humidity (%)',size=15)\n",
    "plt.show()\n",
    "\n",
    "#r2\n",
    "print(f'The r squared is: {rvalue}')"
   ]
  },
  {
   "cell_type": "markdown",
   "metadata": {},
   "source": [
    "Southern Hemisphere - Latitude Linear Regression vs. Humidity (%)"
   ]
  },
  {
   "cell_type": "code",
   "execution_count": null,
   "metadata": {},
   "outputs": [],
   "source": [
    "#setup linear regression and line equation\n",
    "x_values = weather_df_south['Lat']\n",
    "y_values = weather_df_south['Humidity']\n",
    "(slope, intercept, rvalue, pvalue, stderr) = linregress(x_values, y_values)\n",
    "regress_values = x_values * slope + intercept\n",
    "line_eq = \"y = \" + str(round(slope,2)) + \"x + \" + str(round(intercept,2))\n",
    "\n",
    "\n",
    "#generate plot\n",
    "lat_temp_reg_n = plt.scatter(x_values,y_values,marker='o',edgecolors='black')\n",
    "plt.plot(x_values,regress_values,\"r-\")\n",
    "plt.annotate(line_eq, xy=(-25,40),fontsize=15,color='red')\n",
    "plt.grid()\n",
    "plt.title('Humidity vs. Latitude Southern Hemisphere',size=18)\n",
    "plt.xlabel('Latitude',size=15)\n",
    "plt.ylabel('Humidity (%)',size=15)\n",
    "plt.show()\n",
    "\n",
    "#r2\n",
    "print(f'The r squared is: {rvalue}')"
   ]
  },
  {
   "cell_type": "markdown",
   "metadata": {},
   "source": [
    "Northern Hemisphere - Cloudiness (%) vs. Latitude Linear Regression"
   ]
  },
  {
   "cell_type": "code",
   "execution_count": null,
   "metadata": {},
   "outputs": [],
   "source": [
    "#setup linear regression and line equation\n",
    "x_values = weather_df_north['Lat']\n",
    "y_values = weather_df_north['Cloudiness']\n",
    "(slope, intercept, rvalue, pvalue, stderr) = linregress(x_values, y_values)\n",
    "regress_values = x_values * slope + intercept\n",
    "line_eq = \"y = \" + str(round(slope,2)) + \"x + \" + str(round(intercept,2))\n",
    "\n",
    "\n",
    "#generate plot\n",
    "lat_temp_reg_n = plt.scatter(x_values,y_values,marker='o',edgecolors='black')\n",
    "plt.plot(x_values,regress_values,\"r-\")\n",
    "plt.annotate(line_eq, xy=(45,47),fontsize=15,color='red')\n",
    "plt.grid()\n",
    "plt.title('Cloudiness vs. Latitude Norther Hemisphere',size=18)\n",
    "plt.xlabel('Latitude',size=15)\n",
    "plt.ylabel('Cloudiness (%)',size=15)\n",
    "plt.show()\n",
    "\n",
    "#r2\n",
    "print(f'The r squared is: {rvalue}')"
   ]
  },
  {
   "cell_type": "code",
   "execution_count": null,
   "metadata": {},
   "outputs": [],
   "source": [
    "#setup linear regression and line equation\n",
    "x_values = weather_df_south['Lat']\n",
    "y_values = weather_df_south['Cloudiness']\n",
    "(slope, intercept, rvalue, pvalue, stderr) = linregress(x_values, y_values)\n",
    "regress_values = x_values * slope + intercept\n",
    "line_eq = \"y = \" + str(round(slope,2)) + \"x + \" + str(round(intercept,2))\n",
    "\n",
    "\n",
    "#generate plot\n",
    "lat_temp_reg_n = plt.scatter(x_values,y_values,marker='o',edgecolors='black')\n",
    "plt.plot(x_values,regress_values,\"r-\")\n",
    "plt.annotate(line_eq, xy=(-55,35),fontsize=15,color='red')\n",
    "plt.grid()\n",
    "plt.title('Cloudiness vs. Latitude Southern Hemisphere',size=18)\n",
    "plt.xlabel('Latitude',size=15)\n",
    "plt.ylabel('Cloudiness (%)',size=15)\n",
    "plt.show()\n",
    "\n",
    "#r2\n",
    "print(f'The r squared is: {rvalue}')"
   ]
  },
  {
   "cell_type": "markdown",
   "metadata": {},
   "source": [
    "Northern Hemisphere - Wind Speed (mph) vs. Latitude Linear Regression"
   ]
  },
  {
   "cell_type": "code",
   "execution_count": null,
   "metadata": {},
   "outputs": [],
   "source": [
    "#setup linear regression and line equation\n",
    "x_values = weather_df_north['Lat']\n",
    "y_values = weather_df_north['Wind Speed']\n",
    "(slope, intercept, rvalue, pvalue, stderr) = linregress(x_values, y_values)\n",
    "regress_values = x_values * slope + intercept\n",
    "line_eq = \"y = \" + str(round(slope,2)) + \"x + \" + str(round(intercept,2))\n",
    "\n",
    "\n",
    "#generate plot\n",
    "lat_temp_reg_n = plt.scatter(x_values,y_values,marker='o',edgecolors='black')\n",
    "plt.plot(x_values,regress_values,\"r-\")\n",
    "plt.annotate(line_eq, xy=(5,25),fontsize=15,color='red')\n",
    "plt.grid()\n",
    "plt.title('Wind Speed vs. Latitude Northern Hemisphere',size=18)\n",
    "plt.xlabel('Latitude',size=15)\n",
    "plt.ylabel('Wind Speed (mph)',size=15)\n",
    "plt.show()\n",
    "\n",
    "#r2\n",
    "print(f'The r squared is: {rvalue}')"
   ]
  },
  {
   "cell_type": "markdown",
   "metadata": {},
   "source": [
    "Southern Hemisphere - Wind Speed (mph) vs. Latitude Linear Regression"
   ]
  },
  {
   "cell_type": "code",
   "execution_count": null,
   "metadata": {},
   "outputs": [],
   "source": [
    "#setup linear regression and line equation\n",
    "x_values = weather_df_south['Lat']\n",
    "y_values = weather_df_south['Wind Speed']\n",
    "(slope, intercept, rvalue, pvalue, stderr) = linregress(x_values, y_values)\n",
    "regress_values = x_values * slope + intercept\n",
    "line_eq = \"y = \" + str(round(slope,2)) + \"x + \" + str(round(intercept,2))\n",
    "\n",
    "\n",
    "#generate plot\n",
    "lat_temp_reg_n = plt.scatter(x_values,y_values,marker='o',edgecolors='black')\n",
    "plt.plot(x_values,regress_values,\"r-\")\n",
    "plt.annotate(line_eq, xy=(-50,20),fontsize=15,color='red')\n",
    "plt.grid()\n",
    "plt.title('Wind Speed vs. Latitude Southern Hemisphere',size=18)\n",
    "plt.xlabel('Latitude',size=15)\n",
    "plt.ylabel('Wind Speed (mph)',size=15)\n",
    "plt.show()\n",
    "\n",
    "#r2\n",
    "print(f'The r squared is: {rvalue}')"
   ]
  },
  {
   "cell_type": "code",
   "execution_count": null,
   "metadata": {},
   "outputs": [],
   "source": []
  }
 ],
 "metadata": {
  "anaconda-cloud": {},
  "kernel_info": {
   "name": "python3"
  },
  "kernelspec": {
   "display_name": "Python 3 (ipykernel)",
   "language": "python",
   "name": "python3"
  },
  "language_info": {
   "codemirror_mode": {
    "name": "ipython",
    "version": 3
   },
   "file_extension": ".py",
   "mimetype": "text/x-python",
   "name": "python",
   "nbconvert_exporter": "python",
   "pygments_lexer": "ipython3",
   "version": "3.9.7"
  },
  "latex_envs": {
   "LaTeX_envs_menu_present": true,
   "autoclose": false,
   "autocomplete": true,
   "bibliofile": "biblio.bib",
   "cite_by": "apalike",
   "current_citInitial": 1,
   "eqLabelWithNumbers": true,
   "eqNumInitial": 1,
   "hotkeys": {
    "equation": "Ctrl-E",
    "itemize": "Ctrl-I"
   },
   "labels_anchors": false,
   "latex_user_defs": false,
   "report_style_numbering": false,
   "user_envs_cfg": false
  },
  "nteract": {
   "version": "0.12.3"
  }
 },
 "nbformat": 4,
 "nbformat_minor": 2
}
